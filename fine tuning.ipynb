{
 "cells": [
  {
   "cell_type": "markdown",
   "metadata": {},
   "source": [
    "# Fine tuning on LFW"
   ]
  },
  {
   "cell_type": "markdown",
   "metadata": {},
   "source": [
    "Import libraries and get the siamese model"
   ]
  },
  {
   "cell_type": "code",
   "execution_count": 8,
   "metadata": {},
   "outputs": [],
   "source": [
    "import os\n",
    "os.environ['TF_CPP_MIN_LOG_LEVEL'] = '4'\n",
    "import keras, numpy as np\n",
    "from models import get_siamese_model, contrastive_loss\n",
    "\n",
    "image_size = 128"
   ]
  },
  {
   "cell_type": "code",
   "execution_count": 9,
   "metadata": {},
   "outputs": [],
   "source": [
    "backbone_weights_path = os.path.join('Data', 'Models', 'backbone after classification', 'model.weights.h5')\n",
    "siamese_model = get_siamese_model(backbone_weights_path, with_augmentation = True)"
   ]
  },
  {
   "cell_type": "code",
   "execution_count": 10,
   "metadata": {},
   "outputs": [
    {
     "data": {
      "text/html": [
       "<pre style=\"white-space:pre;overflow-x:auto;line-height:normal;font-family:Menlo,'DejaVu Sans Mono',consolas,'Courier New',monospace\"><span style=\"font-weight: bold\">Model: \"functional_7\"</span>\n",
       "</pre>\n"
      ],
      "text/plain": [
       "\u001b[1mModel: \"functional_7\"\u001b[0m\n"
      ]
     },
     "metadata": {},
     "output_type": "display_data"
    },
    {
     "data": {
      "text/html": [
       "<pre style=\"white-space:pre;overflow-x:auto;line-height:normal;font-family:Menlo,'DejaVu Sans Mono',consolas,'Courier New',monospace\">┏━━━━━━━━━━━━━━━━━━━━━┳━━━━━━━━━━━━━━━━━━━┳━━━━━━━━━━━━┳━━━━━━━━━━━━━━━━━━━┓\n",
       "┃<span style=\"font-weight: bold\"> Layer (type)        </span>┃<span style=\"font-weight: bold\"> Output Shape      </span>┃<span style=\"font-weight: bold\">    Param # </span>┃<span style=\"font-weight: bold\"> Connected to      </span>┃\n",
       "┡━━━━━━━━━━━━━━━━━━━━━╇━━━━━━━━━━━━━━━━━━━╇━━━━━━━━━━━━╇━━━━━━━━━━━━━━━━━━━┩\n",
       "│ input_layer_5       │ (<span style=\"color: #00d7ff; text-decoration-color: #00d7ff\">None</span>, <span style=\"color: #00af00; text-decoration-color: #00af00\">128</span>, <span style=\"color: #00af00; text-decoration-color: #00af00\">128</span>,  │          <span style=\"color: #00af00; text-decoration-color: #00af00\">0</span> │ -                 │\n",
       "│ (<span style=\"color: #0087ff; text-decoration-color: #0087ff\">InputLayer</span>)        │ <span style=\"color: #00af00; text-decoration-color: #00af00\">3</span>)                │            │                   │\n",
       "├─────────────────────┼───────────────────┼────────────┼───────────────────┤\n",
       "│ input_layer_6       │ (<span style=\"color: #00d7ff; text-decoration-color: #00d7ff\">None</span>, <span style=\"color: #00af00; text-decoration-color: #00af00\">128</span>, <span style=\"color: #00af00; text-decoration-color: #00af00\">128</span>,  │          <span style=\"color: #00af00; text-decoration-color: #00af00\">0</span> │ -                 │\n",
       "│ (<span style=\"color: #0087ff; text-decoration-color: #0087ff\">InputLayer</span>)        │ <span style=\"color: #00af00; text-decoration-color: #00af00\">3</span>)                │            │                   │\n",
       "├─────────────────────┼───────────────────┼────────────┼───────────────────┤\n",
       "│ augmentor           │ (<span style=\"color: #00d7ff; text-decoration-color: #00d7ff\">None</span>, <span style=\"color: #00af00; text-decoration-color: #00af00\">128</span>, <span style=\"color: #00af00; text-decoration-color: #00af00\">128</span>,  │          <span style=\"color: #00af00; text-decoration-color: #00af00\">0</span> │ input_layer_5[<span style=\"color: #00af00; text-decoration-color: #00af00\">0</span>]… │\n",
       "│ (<span style=\"color: #0087ff; text-decoration-color: #0087ff\">Sequential</span>)        │ <span style=\"color: #00af00; text-decoration-color: #00af00\">3</span>)                │            │ input_layer_6[<span style=\"color: #00af00; text-decoration-color: #00af00\">0</span>]… │\n",
       "├─────────────────────┼───────────────────┼────────────┼───────────────────┤\n",
       "│ functional_5        │ (<span style=\"color: #00d7ff; text-decoration-color: #00d7ff\">None</span>, <span style=\"color: #00af00; text-decoration-color: #00af00\">128</span>)       │  <span style=\"color: #00af00; text-decoration-color: #00af00\">8,903,296</span> │ augmentor[<span style=\"color: #00af00; text-decoration-color: #00af00\">0</span>][<span style=\"color: #00af00; text-decoration-color: #00af00\">0</span>],  │\n",
       "│ (<span style=\"color: #0087ff; text-decoration-color: #0087ff\">Functional</span>)        │                   │            │ augmentor[<span style=\"color: #00af00; text-decoration-color: #00af00\">1</span>][<span style=\"color: #00af00; text-decoration-color: #00af00\">0</span>]   │\n",
       "├─────────────────────┼───────────────────┼────────────┼───────────────────┤\n",
       "│ lambda_1 (<span style=\"color: #0087ff; text-decoration-color: #0087ff\">Lambda</span>)   │ (<span style=\"color: #00d7ff; text-decoration-color: #00d7ff\">None</span>, <span style=\"color: #00af00; text-decoration-color: #00af00\">1</span>)         │          <span style=\"color: #00af00; text-decoration-color: #00af00\">0</span> │ functional_5[<span style=\"color: #00af00; text-decoration-color: #00af00\">0</span>][<span style=\"color: #00af00; text-decoration-color: #00af00\">…</span> │\n",
       "│                     │                   │            │ functional_5[<span style=\"color: #00af00; text-decoration-color: #00af00\">1</span>][<span style=\"color: #00af00; text-decoration-color: #00af00\">…</span> │\n",
       "└─────────────────────┴───────────────────┴────────────┴───────────────────┘\n",
       "</pre>\n"
      ],
      "text/plain": [
       "┏━━━━━━━━━━━━━━━━━━━━━┳━━━━━━━━━━━━━━━━━━━┳━━━━━━━━━━━━┳━━━━━━━━━━━━━━━━━━━┓\n",
       "┃\u001b[1m \u001b[0m\u001b[1mLayer (type)       \u001b[0m\u001b[1m \u001b[0m┃\u001b[1m \u001b[0m\u001b[1mOutput Shape     \u001b[0m\u001b[1m \u001b[0m┃\u001b[1m \u001b[0m\u001b[1m   Param #\u001b[0m\u001b[1m \u001b[0m┃\u001b[1m \u001b[0m\u001b[1mConnected to     \u001b[0m\u001b[1m \u001b[0m┃\n",
       "┡━━━━━━━━━━━━━━━━━━━━━╇━━━━━━━━━━━━━━━━━━━╇━━━━━━━━━━━━╇━━━━━━━━━━━━━━━━━━━┩\n",
       "│ input_layer_5       │ (\u001b[38;5;45mNone\u001b[0m, \u001b[38;5;34m128\u001b[0m, \u001b[38;5;34m128\u001b[0m,  │          \u001b[38;5;34m0\u001b[0m │ -                 │\n",
       "│ (\u001b[38;5;33mInputLayer\u001b[0m)        │ \u001b[38;5;34m3\u001b[0m)                │            │                   │\n",
       "├─────────────────────┼───────────────────┼────────────┼───────────────────┤\n",
       "│ input_layer_6       │ (\u001b[38;5;45mNone\u001b[0m, \u001b[38;5;34m128\u001b[0m, \u001b[38;5;34m128\u001b[0m,  │          \u001b[38;5;34m0\u001b[0m │ -                 │\n",
       "│ (\u001b[38;5;33mInputLayer\u001b[0m)        │ \u001b[38;5;34m3\u001b[0m)                │            │                   │\n",
       "├─────────────────────┼───────────────────┼────────────┼───────────────────┤\n",
       "│ augmentor           │ (\u001b[38;5;45mNone\u001b[0m, \u001b[38;5;34m128\u001b[0m, \u001b[38;5;34m128\u001b[0m,  │          \u001b[38;5;34m0\u001b[0m │ input_layer_5[\u001b[38;5;34m0\u001b[0m]… │\n",
       "│ (\u001b[38;5;33mSequential\u001b[0m)        │ \u001b[38;5;34m3\u001b[0m)                │            │ input_layer_6[\u001b[38;5;34m0\u001b[0m]… │\n",
       "├─────────────────────┼───────────────────┼────────────┼───────────────────┤\n",
       "│ functional_5        │ (\u001b[38;5;45mNone\u001b[0m, \u001b[38;5;34m128\u001b[0m)       │  \u001b[38;5;34m8,903,296\u001b[0m │ augmentor[\u001b[38;5;34m0\u001b[0m][\u001b[38;5;34m0\u001b[0m],  │\n",
       "│ (\u001b[38;5;33mFunctional\u001b[0m)        │                   │            │ augmentor[\u001b[38;5;34m1\u001b[0m][\u001b[38;5;34m0\u001b[0m]   │\n",
       "├─────────────────────┼───────────────────┼────────────┼───────────────────┤\n",
       "│ lambda_1 (\u001b[38;5;33mLambda\u001b[0m)   │ (\u001b[38;5;45mNone\u001b[0m, \u001b[38;5;34m1\u001b[0m)         │          \u001b[38;5;34m0\u001b[0m │ functional_5[\u001b[38;5;34m0\u001b[0m][\u001b[38;5;34m…\u001b[0m │\n",
       "│                     │                   │            │ functional_5[\u001b[38;5;34m1\u001b[0m][\u001b[38;5;34m…\u001b[0m │\n",
       "└─────────────────────┴───────────────────┴────────────┴───────────────────┘\n"
      ]
     },
     "metadata": {},
     "output_type": "display_data"
    },
    {
     "data": {
      "text/html": [
       "<pre style=\"white-space:pre;overflow-x:auto;line-height:normal;font-family:Menlo,'DejaVu Sans Mono',consolas,'Courier New',monospace\"><span style=\"font-weight: bold\"> Total params: </span><span style=\"color: #00af00; text-decoration-color: #00af00\">8,903,296</span> (33.96 MB)\n",
       "</pre>\n"
      ],
      "text/plain": [
       "\u001b[1m Total params: \u001b[0m\u001b[38;5;34m8,903,296\u001b[0m (33.96 MB)\n"
      ]
     },
     "metadata": {},
     "output_type": "display_data"
    },
    {
     "data": {
      "text/html": [
       "<pre style=\"white-space:pre;overflow-x:auto;line-height:normal;font-family:Menlo,'DejaVu Sans Mono',consolas,'Courier New',monospace\"><span style=\"font-weight: bold\"> Trainable params: </span><span style=\"color: #00af00; text-decoration-color: #00af00\">8,893,184</span> (33.92 MB)\n",
       "</pre>\n"
      ],
      "text/plain": [
       "\u001b[1m Trainable params: \u001b[0m\u001b[38;5;34m8,893,184\u001b[0m (33.92 MB)\n"
      ]
     },
     "metadata": {},
     "output_type": "display_data"
    },
    {
     "data": {
      "text/html": [
       "<pre style=\"white-space:pre;overflow-x:auto;line-height:normal;font-family:Menlo,'DejaVu Sans Mono',consolas,'Courier New',monospace\"><span style=\"font-weight: bold\"> Non-trainable params: </span><span style=\"color: #00af00; text-decoration-color: #00af00\">10,112</span> (39.50 KB)\n",
       "</pre>\n"
      ],
      "text/plain": [
       "\u001b[1m Non-trainable params: \u001b[0m\u001b[38;5;34m10,112\u001b[0m (39.50 KB)\n"
      ]
     },
     "metadata": {},
     "output_type": "display_data"
    }
   ],
   "source": [
    "siamese_model.summary()"
   ]
  },
  {
   "cell_type": "markdown",
   "metadata": {},
   "source": [
    "Set up the model and the hyperparameters"
   ]
  },
  {
   "cell_type": "code",
   "execution_count": 11,
   "metadata": {},
   "outputs": [],
   "source": [
    "learning_rate = 0.0001\n",
    "weight_decay = 0.0001\n",
    "batch_size = 32\n",
    "siamese_model.compile(\n",
    "    loss = contrastive_loss(),\n",
    "    optimizer = keras.optimizers.Adam(learning_rate = learning_rate, weight_decay = weight_decay),\n",
    "    metrics = ['accuracy']\n",
    ")\n",
    "checkpoint_path = os.path.join('Data', 'Models', 'pretrained contrastive loss model', 'model.weights.h5')\n"
   ]
  },
  {
   "cell_type": "markdown",
   "metadata": {},
   "source": [
    "Load checkpoint weights"
   ]
  },
  {
   "cell_type": "code",
   "execution_count": 12,
   "metadata": {},
   "outputs": [
    {
     "name": "stderr",
     "output_type": "stream",
     "text": [
      "/home/thoalfeqar/anaconda3/envs/tf/lib/python3.12/site-packages/keras/src/saving/saving_lib.py:719: UserWarning: Skipping variable loading for optimizer 'adam', because it has 2 variables whereas the saved optimizer has 464 variables. \n",
      "  saveable.load_own_variables(weights_store.get(inner_path))\n"
     ]
    }
   ],
   "source": [
    "siamese_model.load_weights(checkpoint_path)"
   ]
  },
  {
   "cell_type": "markdown",
   "metadata": {},
   "source": [
    "Load and preprocess lfw pairs using sklearn"
   ]
  },
  {
   "cell_type": "code",
   "execution_count": null,
   "metadata": {},
   "outputs": [],
   "source": [
    "from sklearn.datasets import fetch_lfw_pairs\n",
    "import tensorflow as tf, cv2\n",
    "\n",
    "data = fetch_lfw_pairs(subset = '10_folds', resize = 1, color = True) #use the 10 fold set\n",
    "\n",
    "pairs = data['pairs']\n",
    "targets = 1 - data['target'] #reverse the targets because we want similar pairs to have a label of 0, while dissimilar ones should have 1\n",
    "images1, images2 = [], []\n",
    "\n",
    "#resize the images\n",
    "for pair in pairs:\n",
    "    img1, img2 = pair\n",
    "    resized1 = (cv2.resize(img1, (image_size, image_size)) * 255).astype(np.uint8) #resize and rescale\n",
    "    resized2 = (cv2.resize(img2, (image_size, image_size)) * 255).astype(np.uint8) #resize and rescale\n",
    "    images1.append(resized1)\n",
    "    images2.append(resized2)\n",
    "\n",
    "images1, images2 = np.array(images1), np.array(images2)\n",
    "\n",
    "# images1 = tf.data.Dataset.from_tensor_slices(images1)\n",
    "# images2 = tf.data.Dataset.from_tensor_slices(images2)\n",
    "# targets = tf.data.Dataset.from_tensor_slices(targets)\n",
    "\n",
    "# train_loader = tf.data.Dataset.zip(((images1, images2), targets)).batch(32)"
   ]
  },
  {
   "cell_type": "markdown",
   "metadata": {},
   "source": [
    "Train using stratified k fold with k = 10"
   ]
  },
  {
   "cell_type": "code",
   "execution_count": null,
   "metadata": {},
   "outputs": [],
   "source": [
    "from sklearn.model_selection import StratifiedKFold\n",
    "from sklearn.metrics import accuracy_score, f1_score\n",
    "import pickle\n",
    "\n",
    "similarity_threshold = 0.5 #to determine if the two images belong to the same person or not\n",
    "histories = [] #to save the history of each fold\n",
    "fold_predictions = [] #to save the predictions\n",
    "checkpoint_file = os.path.join('Data', 'training_checkpoint', 'checkpoint.bin')\n",
    "sk_fold = StratifiedKFold(n_splits = 10, shuffle = True, random_state = 100)\n",
    "\n",
    "for i, (train_index, test_index) in enumerate(sk_fold.split(np.zeros(images1.shape[0]), targets)):\n",
    "\n",
    "    with open(checkpoint_file, mode = 'rb') as file:\n",
    "        (i_,fold_predictions) = pickle.load(file)  #load the progress from the checkpoint file\n",
    "\n",
    "    if(i <= i_):\n",
    "        continue\n",
    "\n",
    "    print(f\"Fold {i}\")\n",
    "    #make sure to reset the model before each fold\n",
    "    siamese_model.load_weights(checkpoint_path)\n",
    "    siamese_model.optimizer.learning_rate = learning_rate #to set the learning rate\n",
    "    siamese_model.optimizer.weight_decay = weight_decay #to set the weight decay\n",
    "    \n",
    "    # prepare the training data\n",
    "    train_images1 = images1[train_index]\n",
    "    train_images2 = images2[train_index]\n",
    "    train_labels = targets[train_index]\n",
    "\n",
    "    #prepare the testing data\n",
    "    test_images1 = images1[test_index]\n",
    "    test_images2 = images2[test_index]\n",
    "    test_labels = targets[test_index]\n",
    "\n",
    "    #define the callbacks\n",
    "    early_stopping = keras.callbacks.EarlyStopping(monitor = 'accuracy', patience = 6, verbose = 1, restore_best_weights = True)\n",
    "    learning_rate_schedule = keras.callbacks.ReduceLROnPlateau(monitor = 'accuracy', patience = 3, factor = 0.5, verbose = 1)\n",
    " \n",
    "    #train the model\n",
    "    history = siamese_model.fit(\n",
    "        x = [train_images1, train_images2], \n",
    "        y = train_labels,\n",
    "        epochs = 10000, #let the model stop using early stopping\n",
    "        batch_size = batch_size,\n",
    "        callbacks = [early_stopping, learning_rate_schedule]\n",
    "    )\n",
    "    histories.append(history) #save the history\n",
    "\n",
    "    #test the model\n",
    "    y_pred = siamese_model.predict(\n",
    "        x = [test_images1, test_images2],\n",
    "        batch_size = batch_size\n",
    "    )\n",
    "\n",
    "    fold_predictions.append(y_pred.copy()) #save the prediction\n",
    "\n",
    "    with open(checkpoint_file, 'wb') as file:\n",
    "        pickle.dump((i, fold_predictions), file) #store the current fold result\n",
    "\n",
    "\n",
    "    #Edit the prediction using the threshold\n",
    "    y_pred[y_pred >= similarity_threshold] = 1\n",
    "    y_pred[y_pred < similarity_threshold] = 0\n",
    "\n",
    "\n",
    "    print(f'Accuracy: {accuracy_score(test_labels, y_pred)}')\n",
    "    print(f'F1: {f1_score(test_labels, y_pred)}')"
   ]
  },
  {
   "cell_type": "markdown",
   "metadata": {},
   "source": [
    "## Ten fold cross validation results"
   ]
  },
  {
   "cell_type": "code",
   "execution_count": 89,
   "metadata": {},
   "outputs": [],
   "source": [
    "similarity_threshold = 0.5\n",
    "predictions = np.concatenate(fold_predictions)\n",
    "binary_predictions = predictions.copy()\n",
    "binary_predictions[binary_predictions >= similarity_threshold] = 1\n",
    "binary_predictions[binary_predictions < similarity_threshold] = 0"
   ]
  },
  {
   "cell_type": "code",
   "execution_count": 90,
   "metadata": {},
   "outputs": [],
   "source": [
    "from sklearn.metrics import RocCurveDisplay, ConfusionMatrixDisplay\n",
    "from matplotlib import pyplot as plt\n"
   ]
  },
  {
   "cell_type": "code",
   "execution_count": 91,
   "metadata": {},
   "outputs": [],
   "source": [
    "new_targets = []\n",
    "for (train_index, test_index) in sk_fold.split(np.zeros(images1.shape[0]), targets):\n",
    "    new_targets.append(targets[test_index])"
   ]
  },
  {
   "cell_type": "code",
   "execution_count": 92,
   "metadata": {},
   "outputs": [],
   "source": [
    "new_targets = np.concatenate(new_targets)"
   ]
  },
  {
   "cell_type": "code",
   "execution_count": 93,
   "metadata": {},
   "outputs": [
    {
     "data": {
      "image/png": "[encoded data removed]",
      "text/plain": [
       "<Figure size 640x480 with 2 Axes>"
      ]
     },
     "metadata": {},
     "output_type": "display_data"
    },
    {
     "data": {
      "image/png": "[encoded data removed]",
      "text/plain": [
       "<Figure size 640x480 with 1 Axes>"
      ]
     },
     "metadata": {},
     "output_type": "display_data"
    }
   ],
   "source": [
    "\n",
    "ConfusionMatrixDisplay.from_predictions(new_targets, binary_predictions)\n",
    "plt.title('Confusion matrix')\n",
    "\n",
    "RocCurveDisplay.from_predictions(new_targets, predictions, name = 'siamese network')\n",
    "plt.title('ROC curve')\n",
    "plt.show()\n",
    "\n"
   ]
  },
  {
   "cell_type": "code",
   "execution_count": 94,
   "metadata": {},
   "outputs": [
    {
     "name": "stdout",
     "output_type": "stream",
     "text": [
      "Accuracy:  0.8528333333333333\n",
      "F1 score:  0.8525137798563555\n"
     ]
    }
   ],
   "source": [
    "print('Accuracy: ', accuracy_score(new_targets, binary_predictions))\n",
    "print('F1 score: ', f1_score(new_targets, binary_predictions))"
   ]
  },
  {
   "cell_type": "markdown",
   "metadata": {},
   "source": [
    "# Train on the entire dataset to obtain the final model"
   ]
  },
  {
   "cell_type": "markdown",
   "metadata": {},
   "source": [
    "### Fine tune using the 10 fold split"
   ]
  },
  {
   "cell_type": "code",
   "execution_count": null,
   "metadata": {},
   "outputs": [],
   "source": [
    "fine_tuning_checkpoint = os.path.join('Data', 'Models', 'Fine tuned model using LFW', 'model.weights.h5')\n",
    "checkpoint_callback = keras.callbacks.ModelCheckpoint(\n",
    "    filepath = fine_tuning_checkpoint, \n",
    "    monitor = 'accuracy', \n",
    "    save_weights_only = True,\n",
    "    save_best_only = True,\n",
    "    verbose = 1\n",
    ")\n",
    "learning_rate_schedule = keras.callbacks.ReduceLROnPlateau(monitor = 'accuracy', factor = 0.5, patience = 3, verbose = 1)\n",
    "early_stopping = keras.callbacks.EarlyStopping(monitor = 'accuracy', patience = 10)\n",
    "\n",
    "siamese_model.load_weights(fine_tuning_checkpoint)\n",
    "siamese_model.fit(\n",
    "    x = [images1, images2],\n",
    "    y = targets,\n",
    "    batch_size = batch_size,\n",
    "    epochs = 10000, #stop with early stopping\n",
    "    callbacks = [checkpoint_callback, learning_rate_schedule, early_stopping]\n",
    ")\n"
   ]
  },
  {
   "cell_type": "markdown",
   "metadata": {},
   "source": [
    "### Fine tune using the custom dataloader"
   ]
  },
  {
   "cell_type": "code",
   "execution_count": null,
   "metadata": {},
   "outputs": [],
   "source": [
    "from DataLoaders import DataLoaderContrastive\n",
    "train_loader = DataLoaderContrastive(\n",
    "    dataset_root_path = os.path.join()\n",
    ")"
   ]
  }
 ],
 "metadata": {
  "kernelspec": {
   "display_name": "tf",
   "language": "python",
   "name": "python3"
  },
  "language_info": {
   "codemirror_mode": {
    "name": "ipython",
    "version": 3
   },
   "file_extension": ".py",
   "mimetype": "text/x-python",
   "name": "python",
   "nbconvert_exporter": "python",
   "pygments_lexer": "ipython3",
   "version": "3.12.7"
  }
 },
 "nbformat": 4,
 "nbformat_minor": 2
}
