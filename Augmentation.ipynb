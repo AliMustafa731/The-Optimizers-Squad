{
 "cells": [
  {
   "cell_type": "markdown",
   "metadata": {},
   "source": [
    "# LFW Augmentation"
   ]
  },
  {
   "cell_type": "markdown",
   "metadata": {},
   "source": [
    "Since LFW has many subjects with only one image available, this notebook uses data augmentation techniques to increase the number of images\n",
    "for the purposes of better generalization and less overfitting."
   ]
  },
  {
   "cell_type": "code",
   "execution_count": 6,
   "metadata": {},
   "outputs": [],
   "source": [
    "import tensorflow as tf, numpy as np\n",
    "import keras, os, albumentations as A, cv2, matplotlib.pyplot as plt"
   ]
  },
  {
   "cell_type": "markdown",
   "metadata": {},
   "source": [
    "Compose the augmentation stack:"
   ]
  },
  {
   "cell_type": "markdown",
   "metadata": {},
   "source": []
  },
  {
   "cell_type": "code",
   "execution_count": null,
   "metadata": {},
   "outputs": [],
   "source": [
    "transform = A.Compose([\n",
    "    A.HorizontalFlip(),\n",
    "    A.Rotate(limit = (-10, 10), interpolation = cv2.INTER_CUBIC),\n",
    "    A.GaussNoise(var_limit = (10, 50.0)),\n",
    "    A.RandomBrightnessContrast(p = 0.3)\n",
    "])"
   ]
  },
  {
   "cell_type": "code",
   "execution_count": null,
   "metadata": {},
   "outputs": [],
   "source": [
    "source_db = os.path.join('Data', 'LFW', 'lfw_face_extracted')\n",
    "destination_db = os.path.join('Data', 'LFW', 'lfw_augmented')\n",
    "\n",
    "for dir, dirnames, filenames in os.walk(source_db):\n",
    "    if len(filenames) != 0:\n",
    "        destination_folder = os.path.join(destination_db, os.path.split(dir)[-1])\n",
    "        if not os.path.exists(destination_folder):\n",
    "            os.makedirs(destination_folder)\n",
    "\n",
    "\n",
    "        for filename in filenames:\n",
    "            image = cv2.imread(os.path.join(dir, filename))\n",
    "\n",
    "            for i in range(10): #create 10 augmented images\n",
    "                transformed_image = transform(image = image)['image']\n",
    "                destination_filename = os.path.join(destination_folder, f'Augmented_{i}_' + filename)\n",
    "                cv2.imwrite(destination_filename, transformed_image)\n",
    "            \n",
    "            cv2.imwrite(os.path.join(destination_folder, filename), image) #also add the original image before augmentation"
   ]
  },
  {
   "cell_type": "code",
   "execution_count": null,
   "metadata": {},
   "outputs": [],
   "source": []
  }
 ],
 "metadata": {
  "kernelspec": {
   "display_name": "tf",
   "language": "python",
   "name": "python3"
  },
  "language_info": {
   "codemirror_mode": {
    "name": "ipython",
    "version": 3
   },
   "file_extension": ".py",
   "mimetype": "text/x-python",
   "name": "python",
   "nbconvert_exporter": "python",
   "pygments_lexer": "ipython3",
   "version": "3.12.7"
  }
 },
 "nbformat": 4,
 "nbformat_minor": 2
}
