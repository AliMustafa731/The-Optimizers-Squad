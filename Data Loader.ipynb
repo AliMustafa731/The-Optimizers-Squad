{
 "cells": [
  {
   "cell_type": "code",
   "execution_count": 24,
   "metadata": {},
   "outputs": [],
   "source": [
    "import tensorflow as tf\n",
    "import numpy as np\n",
    "import os"
   ]
  },
  {
   "cell_type": "markdown",
   "metadata": {},
   "source": [
    "Store information about directories containing (**similar / dissimilar**) image's classes."
   ]
  },
  {
   "cell_type": "code",
   "execution_count": null,
   "metadata": {},
   "outputs": [
    {
     "name": "stdout",
     "output_type": "stream",
     "text": [
      "1680 similar classes, and 4069 dissimilar classes.\n"
     ]
    }
   ],
   "source": [
    "dataset_dir = \"lfw_funneled\"\n",
    "multi_classes_paths = []   # a list of directories containing more than one image of a class\n",
    "single_classes_paths = []  # a list of directories containing a single image of a class\n",
    "\n",
    "for dir in os.scandir(dataset_dir):\n",
    "    if len(os.listdir(dir.path)) > 1:\n",
    "        multi_classes_paths.append(dir.path)\n",
    "    else:\n",
    "        single_classes_paths.append(dir.path)\n",
    "\n",
    "multi_classes_paths = np.array(multi_classes_paths)\n",
    "single_classes_paths = np.array(single_classes_paths)\n",
    "\n",
    "print(f\"{len(multi_classes_paths)} similar classes, and {len(single_classes_paths)} dissimilar classes.\")"
   ]
  },
  {
   "cell_type": "markdown",
   "metadata": {},
   "source": [
    "Put everything togather!"
   ]
  },
  {
   "cell_type": "code",
   "execution_count": null,
   "metadata": {},
   "outputs": [],
   "source": [
    "class CustomLoader(tf.keras.utils.Sequence):\n",
    "\n",
    "    def __init__(self, dataset_dir, batch_size, img_size=(250, 250)):\n",
    "        self.img_size = img_size\n",
    "        self.batch_size = batch_size\n",
    "\n",
    "        self.dataset_dir = dataset_dir\n",
    "        self.multi_classes_paths = []   # a list of directories containing more than one image of a class\n",
    "        self.single_classes_paths = []  # a list of directories containing a single image of a class\n",
    "\n",
    "        for dir in os.scandir(dataset_dir):\n",
    "            if len(os.listdir(dir.path)) > 1:\n",
    "                self.multi_classes_paths.append(dir.path)\n",
    "            else:\n",
    "                self.single_classes_paths.append(dir.path)\n",
    "        \n",
    "        # convert to numpy arrays\n",
    "        self.multi_classes_paths = np.array(self.multi_classes_paths)\n",
    "        self.single_classes_paths = np.array(self.single_classes_paths)\n",
    "        \n",
    "        self.batches_num = (len(self.multi_classes_paths) + len(self.single_classes_paths)) // self.batch_size\n",
    "    \n",
    "    def load_img(self, path):\n",
    "        image = tf.keras.preprocessing.image.load_img(path)\n",
    "        image_arr = tf.keras.preprocessing.image.img_to_array(image)\n",
    "        return image_arr / 255\n",
    "\n",
    "    # the training algorithm (model.fit()) will call this funtion to get the n'th batch of the dataset\n",
    "    def __getitem__(self, n):\n",
    "        # assemble a batch of 50%/50% similar and dissimilar classes\n",
    "        half_batch_size = self.batch_size // 2\n",
    "        path_batch_similar = self.multi_classes_paths[n*half_batch_size : (n+1)*half_batch_size]\n",
    "        path_batch_dissimilar = self.ingle_classes_paths[(n+2)*half_batch_size : (n+3)*half_batch_size]\n",
    "\n",
    "        X = []\n",
    "        Y = []\n",
    "\n",
    "        for i in range(self.batch_size):\n",
    "            pass\n",
    "\n",
    "        return ()\n",
    "\n",
    "    # returns the number of batches in the dataset\n",
    "    def __len__(self):\n",
    "        return self.batches_num\n",
    "    \n",
    "    # called at the end of the epoch\n",
    "    def on_epoch_end(self):\n",
    "        np.random.shuffle(self.multi_classes_paths)\n",
    "        np.random.shuffle(self.single_classes_paths)"
   ]
  },
  {
   "cell_type": "markdown",
   "metadata": {},
   "source": [
    "Test the **CustomLoader**"
   ]
  }
 ],
 "metadata": {
  "kernelspec": {
   "display_name": "Python 3",
   "language": "python",
   "name": "python3"
  },
  "language_info": {
   "codemirror_mode": {
    "name": "ipython",
    "version": 3
   },
   "file_extension": ".py",
   "mimetype": "text/x-python",
   "name": "python",
   "nbconvert_exporter": "python",
   "pygments_lexer": "ipython3",
   "version": "3.11.4"
  }
 },
 "nbformat": 4,
 "nbformat_minor": 2
}
