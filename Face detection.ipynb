{
 "cells": [
  {
   "cell_type": "markdown",
   "metadata": {},
   "source": [
    "# Face Detection"
   ]
  },
  {
   "cell_type": "markdown",
   "metadata": {},
   "source": [
    "This notebook extracts the faces from LFW and Casia-webface \n",
    "to perform data augmentation later for training."
   ]
  },
  {
   "cell_type": "code",
   "execution_count": 2,
   "metadata": {},
   "outputs": [],
   "source": [
    "import cv2, face_recognition, os, matplotlib.pyplot as plt\n"
   ]
  },
  {
   "cell_type": "markdown",
   "metadata": {},
   "source": [
    "Extract faces from LFW"
   ]
  },
  {
   "cell_type": "code",
   "execution_count": null,
   "metadata": {},
   "outputs": [],
   "source": [
    "source_db = os.path.join('Data', 'LFW', 'lfw_funneled')\n",
    "destination_db = os.path.join('Data', 'LFW', 'lfw_face_extracted')\n",
    "\n",
    "for dir, dirnames, filenames in os.walk(source_db):\n",
    "    if len(filenames) != 0:\n",
    "        destination_folder = os.path.join(destination_db, os.path.split(dir)[-1])\n",
    "\n",
    "        if not os.path.exists(destination_folder):\n",
    "            os.makedirs(destination_folder)\n",
    "\n",
    "        for filename in filenames:\n",
    "            image = cv2.imread(os.path.join(dir, filename))\n",
    "            faces = face_recognition.face_locations(image, number_of_times_to_upsample = 2, model = 'hog')\n",
    "            if len(faces) > 0:\n",
    "                top, right, bottom, left = faces[0]\n",
    "                face = image[top : bottom, left : right]\n",
    "            else:\n",
    "                face = image[50:-50, 50:-50] #crop the image manually\n",
    "            \n",
    "            cv2.imwrite(os.path.join(destination_folder, filename), face)\n",
    "            "
   ]
  },
  {
   "cell_type": "code",
   "execution_count": 14,
   "metadata": {},
   "outputs": [
    {
     "data": {
      "text/plain": [
       "151312"
      ]
     },
     "execution_count": 14,
     "metadata": {},
     "output_type": "execute_result"
    }
   ],
   "source": [
    "13233*11 + 5749"
   ]
  },
  {
   "cell_type": "code",
   "execution_count": null,
   "metadata": {},
   "outputs": [],
   "source": []
  }
 ],
 "metadata": {
  "kernelspec": {
   "display_name": "tf",
   "language": "python",
   "name": "python3"
  },
  "language_info": {
   "codemirror_mode": {
    "name": "ipython",
    "version": 3
   },
   "file_extension": ".py",
   "mimetype": "text/x-python",
   "name": "python",
   "nbconvert_exporter": "python",
   "pygments_lexer": "ipython3",
   "version": "3.12.7"
  }
 },
 "nbformat": 4,
 "nbformat_minor": 2
}
